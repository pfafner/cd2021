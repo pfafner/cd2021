{
 "cells": [
  {
   "cell_type": "markdown",
   "metadata": {},
   "source": [
    "# **Ciencia de Datos 2021**\n",
    "\n",
    "### Alan Reyes-Figueroa"
   ]
  },
  {
   "cell_type": "code",
   "execution_count": 1,
   "metadata": {},
   "outputs": [],
   "source": [
    "import numpy as np\n",
    "import matplotlib.pyplot as plt\n",
    "import seaborn as sns\n",
    "\n",
    "from sklearn.datasets import load_iris\n",
    "\n",
    "from sklearn.metrics import classification_report, confusion_matrix\n",
    "from sklearn.model_selection import train_test_split"
   ]
  },
  {
   "cell_type": "code",
   "execution_count": null,
   "metadata": {},
   "outputs": [],
   "source": []
  },
  {
   "cell_type": "markdown",
   "metadata": {},
   "source": [
    "## Load data"
   ]
  },
  {
   "cell_type": "code",
   "execution_count": 2,
   "metadata": {},
   "outputs": [],
   "source": [
    "iris = load_iris()\n",
    "X = iris['data']\n",
    "y = iris['target']"
   ]
  },
  {
   "cell_type": "code",
   "execution_count": 3,
   "metadata": {},
   "outputs": [],
   "source": [
    "colors = {0:'red', 1:'blue', 2:'green'}\n",
    "c = []\n",
    "for i in range(0, len(y)):\n",
    "    c.append(colors[y[i]])"
   ]
  },
  {
   "cell_type": "code",
   "execution_count": 4,
   "metadata": {},
   "outputs": [
    {
     "data": {
      "image/png": "[encoded data removed]",
      "text/plain": [
       "<Figure size 432x288 with 1 Axes>"
      ]
     },
     "metadata": {
      "needs_background": "light"
     },
     "output_type": "display_data"
    }
   ],
   "source": [
    "plt.figure()\n",
    "plt.scatter(X[:,0], X[:,1], c=c)\n",
    "plt.show()"
   ]
  },
  {
   "cell_type": "code",
   "execution_count": 5,
   "metadata": {},
   "outputs": [],
   "source": [
    "# separamos en clases 0, 1, 2\n",
    "y0 = np.argwhere(y==0)\n",
    "y1 = np.argwhere(y==1)\n",
    "y2 = np.argwhere(y==2)\n",
    "\n",
    "X0 = X[y0]\n",
    "X1 = X[y1]\n",
    "X2 = X[y2]\n",
    "\n",
    "# extract class 0 and 1\n",
    "X01 = np.vstack([X0,X1]).reshape(-1,4)\n",
    "y01 = np.stack(np.array(50*[0] + 50*[1]))\n",
    "\n",
    "# extract class 1 and 2\n",
    "X12 = np.vstack([X1,X2]).reshape(-1,4)\n",
    "y12 = np.stack(np.array(50*[1] + 50*[2]))"
   ]
  },
  {
   "cell_type": "code",
   "execution_count": 6,
   "metadata": {},
   "outputs": [
    {
     "name": "stdout",
     "output_type": "stream",
     "text": [
      "(100, 4) (100,)\n",
      "(100, 4) (100,)\n"
     ]
    }
   ],
   "source": [
    "print(X01.shape, y01.shape)\n",
    "print(X12.shape, y12.shape)"
   ]
  },
  {
   "cell_type": "code",
   "execution_count": null,
   "metadata": {},
   "outputs": [],
   "source": []
  },
  {
   "cell_type": "markdown",
   "metadata": {},
   "source": [
    "## Clasificador logístico"
   ]
  },
  {
   "cell_type": "code",
   "execution_count": 7,
   "metadata": {},
   "outputs": [],
   "source": [
    "def sigmoid(X, w):\n",
    "    ''' Computes sigmoid function.\n",
    "        Inputs:  X = data, as numpy array of shape (n,d+1).\n",
    "                 w = vector of coeficients, as numpy array of shape (d+1,).\n",
    "        Outputs: y = sigmoid function evaluated on each entry.\n",
    "    '''\n",
    "    return 1./(1. + np.exp(-X@w))\n",
    "\n",
    "\n",
    "def fit(X, y, w0, alpha, maxIter=1000, eps=1e-3):\n",
    "    ''' Iteración del clasificador logístico por descenso gradiente.\n",
    "        Inputs:  X  = data, as numpy array of shape (n,d).\n",
    "                 y  = vector of class labels (0 and 1) ad numpy arryas of shape (n,). \n",
    "                 w0 = initial vector of coeficients.\n",
    "                 alpha = step size.\n",
    "                 maxIter = max numer of iterations in gradient descent.\n",
    "                 eps = convergence tolerance.\n",
    "        Outputs: w     = optimal vector of coefficients.\n",
    "                 conv  = convergence flag (1 = method converged; 0 = not).\n",
    "                 error = error after last step.\n",
    "                 i     = number of total iterations. \n",
    "    '''\n",
    "    n = X.shape[0]\n",
    "    d = X.shape[1]\n",
    "\n",
    "    # Add 1 dimension for the bias term\n",
    "    X = np.concatenate([np.ones((n,1)), X], axis=1)\n",
    "\n",
    "    # init data\n",
    "    w = w0.copy()\n",
    "    error = 10.*eps\n",
    "    i = 0\n",
    "    conv = 0\n",
    "\n",
    "    # main iteration\n",
    "    while ((i <= maxIter) and (error > eps)):\n",
    "        wold = w.copy()\n",
    "        diff = alpha*(y - sigmoid(X, w))\n",
    "        for j in range(0, n):\n",
    "            w += diff[j]*X[j,:]\n",
    "        error = (np.abs(w - wold)).sum()\n",
    "        if (error < eps): conv = 1\n",
    "        i = i+1\n",
    "    return w, conv, error, i\n",
    "\n",
    "    \n",
    "def predict(X, w):\n",
    "    ''' Predicts labels on a dataset, by using optimal weights.\n",
    "        Inputs:  X = data, as numpy array of shape (n,d),\n",
    "                 w  = optimal vector (after fit), of shape (d+1,).\n",
    "        Outputs: y    = real valuated predictions by logistic regression,\n",
    "                 yhat = binary predictions (1 = if y > 0.5, 0 otherwise). \n",
    "    '''\n",
    "    n = X.shape[0]\n",
    "    # Add column of 1s\n",
    "    X = np.concatenate([np.ones((n,1)), X], axis=1)\n",
    "    y = sigmoid(X, w)                  # real labels in (0,1)\n",
    "    yhat = (y > 0.5).astype(np.uint8)  # binary labels\n",
    "    return y, yhat"
   ]
  },
  {
   "cell_type": "markdown",
   "metadata": {},
   "source": [
    "### Experimento 1: Clase 0 y 1 (linealmente separable)"
   ]
  },
  {
   "cell_type": "code",
   "execution_count": 8,
   "metadata": {},
   "outputs": [],
   "source": [
    "alpha   = 1e-3\n",
    "maxIter = 5000\n",
    "eps     = 1e-3\n",
    "#w0 = np.zeros(3)\n",
    "w0 = np.random.rand(3,)"
   ]
  },
  {
   "cell_type": "code",
   "execution_count": 9,
   "metadata": {},
   "outputs": [
    {
     "name": "stdout",
     "output_type": "stream",
     "text": [
      "[-1.49750734  4.91796585 -8.11654864] 1 0.0009999499005419743 4657\n"
     ]
    }
   ],
   "source": [
    "# Training (gradient descent)\n",
    "\n",
    "w, conv, err, it = fit(X01[:,[0,1]], y01, w0, alpha, maxIter, eps)\n",
    "print(w, conv, err, it)"
   ]
  },
  {
   "cell_type": "code",
   "execution_count": 10,
   "metadata": {},
   "outputs": [
    {
     "name": "stdout",
     "output_type": "stream",
     "text": [
      "[7.97211211e-03 1.48158150e-01 1.26667959e-02 1.73584459e-02\n",
      " 2.17781458e-03 1.36527737e-03 1.54508540e-03 1.09441744e-02\n",
      " 3.24066372e-02 7.17059067e-02 6.88349321e-03 4.12097237e-03\n",
      " 9.61358141e-02 9.01419090e-03 4.32288517e-03 1.03284906e-04\n",
      " 1.36527737e-03 7.97211211e-03 1.32818389e-02 7.03480730e-04\n",
      " 7.33212057e-02 1.58258559e-03 3.05138518e-04 3.91472111e-02\n",
      " 4.12097237e-03 2.21434891e-01 1.09441744e-02 1.29707203e-02\n",
      " 2.87387163e-02 1.26667959e-02 4.51065604e-02 7.33212057e-02\n",
      " 1.00833976e-04 1.95804218e-04 7.17059067e-02 5.31192514e-02\n",
      " 5.43403636e-02 1.33291954e-03 1.46565413e-02 1.77729145e-02\n",
      " 4.89030483e-03 8.77102922e-01 2.92534491e-03 4.89030483e-03\n",
      " 7.03480730e-04 9.61358141e-02 7.03480730e-04 7.78438923e-03\n",
      " 4.22072666e-03 2.43092532e-02 9.99047339e-01 9.82093424e-01\n",
      " 9.99307947e-01 9.98976234e-01 9.99566391e-01 9.78301225e-01\n",
      " 9.37089575e-01 9.57742964e-01 9.99403048e-01 8.96713871e-01\n",
      " 9.98951373e-01 9.59644888e-01 9.99961077e-01 9.93064161e-01\n",
      " 9.24499299e-01 9.98151560e-01 8.44678050e-01 9.94012128e-01\n",
      " 9.99985444e-01 9.96832783e-01 8.24267986e-01 9.96907716e-01\n",
      " 9.99898394e-01 9.96907716e-01 9.98405315e-01 9.98656887e-01\n",
      " 9.99900805e-01 9.99178222e-01 9.88707912e-01 9.95644156e-01\n",
      " 9.97697807e-01 9.97697807e-01 9.94012128e-01 9.97752320e-01\n",
      " 6.70370736e-01 6.02051974e-01 9.98151560e-01 9.99979957e-01\n",
      " 8.44678050e-01 9.94831204e-01 9.88436586e-01 9.84517456e-01\n",
      " 9.97331770e-01 9.88158819e-01 9.84147056e-01 8.98917302e-01\n",
      " 9.52434197e-01 9.95747090e-01 9.64179146e-01 9.78301225e-01]\n",
      "[0 0 0 0 0 0 0 0 0 0 0 0 0 0 0 0 0 0 0 0 0 0 0 0 0 0 0 0 0 0 0 0 0 0 0 0 0\n",
      " 0 0 0 0 1 0 0 0 0 0 0 0 0 1 1 1 1 1 1 1 1 1 1 1 1 1 1 1 1 1 1 1 1 1 1 1 1\n",
      " 1 1 1 1 1 1 1 1 1 1 1 1 1 1 1 1 1 1 1 1 1 1 1 1 1 1]\n"
     ]
    }
   ],
   "source": [
    "yprob, yhat = predict(X01[:,[0,1]], w)\n",
    "print(yprob)\n",
    "print(yhat)"
   ]
  },
  {
   "cell_type": "code",
   "execution_count": 11,
   "metadata": {},
   "outputs": [
    {
     "name": "stdout",
     "output_type": "stream",
     "text": [
      "[[49  1]\n",
      " [ 0 50]]\n"
     ]
    }
   ],
   "source": [
    "cfmatrix = confusion_matrix(y01, yhat)\n",
    "print(cfmatrix)"
   ]
  },
  {
   "cell_type": "code",
   "execution_count": 12,
   "metadata": {},
   "outputs": [
    {
     "data": {
      "image/png": "[encoded data removed]",
      "text/plain": [
       "<Figure size 432x288 with 2 Axes>"
      ]
     },
     "metadata": {
      "needs_background": "light"
     },
     "output_type": "display_data"
    }
   ],
   "source": [
    "plt.figure()\n",
    "sns.heatmap(cfmatrix, annot=True)\n",
    "plt.show()"
   ]
  },
  {
   "cell_type": "code",
   "execution_count": 13,
   "metadata": {},
   "outputs": [
    {
     "name": "stdout",
     "output_type": "stream",
     "text": [
      "              precision    recall  f1-score   support\n",
      "\n",
      "           0       1.00      0.98      0.99        50\n",
      "           1       0.98      1.00      0.99        50\n",
      "\n",
      "    accuracy                           0.99       100\n",
      "   macro avg       0.99      0.99      0.99       100\n",
      "weighted avg       0.99      0.99      0.99       100\n",
      "\n"
     ]
    }
   ],
   "source": [
    "print(classification_report(y01, yhat))"
   ]
  },
  {
   "cell_type": "markdown",
   "metadata": {},
   "source": [
    "## Regiones de clasificación"
   ]
  },
  {
   "cell_type": "code",
   "execution_count": 14,
   "metadata": {},
   "outputs": [],
   "source": [
    "# Plotting decision regions\n",
    "h = 0.01\n",
    "x_min, x_max = X01[:,0].min() - 1, X01[:,0].max() + 1\n",
    "y_min, y_max = X01[:,1].min() - 1, X01[:,1].max() + 1\n",
    "xx, yy = np.meshgrid(np.arange(x_min, x_max, h),\n",
    "                     np.arange(y_min, y_max, h))"
   ]
  },
  {
   "cell_type": "code",
   "execution_count": 15,
   "metadata": {},
   "outputs": [
    {
     "data": {
      "image/png": "[encoded data removed]",
      "text/plain": [
       "<Figure size 576x576 with 1 Axes>"
      ]
     },
     "metadata": {
      "needs_background": "light"
     },
     "output_type": "display_data"
    }
   ],
   "source": [
    "plt.figure(figsize=(8,8))\n",
    "Zp, Z = predict(np.c_[xx.ravel(), yy.ravel()], w)\n",
    "Z = Z.reshape(xx.shape)\n",
    "plt.contourf(xx, yy, Z, alpha=0.4)\n",
    "plt.scatter(X01[:,0], X01[:,1], c=y01, s=20, edgecolor='k')\n",
    "plt.title('Clasificador Logístico')\n",
    "#plt.h([0,0], w, 'k-')\n",
    "plt.xlim([x_min,x_max])\n",
    "plt.ylim([y_min,y_max])\n",
    "plt.show()"
   ]
  },
  {
   "cell_type": "markdown",
   "metadata": {},
   "source": [
    "### Experimento 2: Clase 1 y 2 (no separable)"
   ]
  },
  {
   "cell_type": "code",
   "execution_count": 16,
   "metadata": {},
   "outputs": [],
   "source": [
    "alpha   = 1e-3\n",
    "maxIter = 5000\n",
    "eps     = 1e-3\n",
    "#w0 = np.zeros(3)\n",
    "w0 = np.random.rand(3,)"
   ]
  },
  {
   "cell_type": "code",
   "execution_count": 17,
   "metadata": {},
   "outputs": [
    {
     "name": "stdout",
     "output_type": "stream",
     "text": [
      "[-6.87584711  1.22988078 -0.27084815] 1 0.000999928195289046 4969\n"
     ]
    }
   ],
   "source": [
    "# Training (gradient descent)\n",
    "\n",
    "w, conv, err, it = fit(X12[:,[0,1]], y01, w0, alpha, maxIter, eps)\n",
    "print(w, conv, err, it)"
   ]
  },
  {
   "cell_type": "code",
   "execution_count": 18,
   "metadata": {},
   "outputs": [
    {
     "name": "stdout",
     "output_type": "stream",
     "text": [
      "[0.70403862 0.53212463 0.68367251 0.32421818 0.58904119 0.34889464\n",
      " 0.49465092 0.18250505 0.61204261 0.2293903  0.2195759  0.39362618\n",
      " 0.47690934 0.46032508 0.31561999 0.62825192 0.30979899 0.38371046\n",
      " 0.5383117  0.33947489 0.38077392 0.46706048 0.54866579 0.46706048\n",
      " 0.55229066 0.60559223 0.67457862 0.63455534 0.4299581  0.36129869\n",
      " 0.31831236 0.31831236 0.38371046 0.44328206 0.2597948  0.39712802\n",
      " 0.62825192 0.56204138 0.30979899 0.31246437 0.30667548 0.45360415\n",
      " 0.39013523 0.20596947 0.32743598 0.33669194 0.34276731 0.49098949\n",
      " 0.21745227 0.34889464 0.49465092 0.38371046 0.73957522 0.52172185\n",
      " 0.57586794 0.84006373 0.17849878 0.78865264 0.66535127 0.73189162\n",
      " 0.56258599 0.56564386 0.66257661 0.36757202 0.37732603 0.53212463\n",
      " 0.57586794 0.82707135 0.86875891 0.47690934 0.6777861  0.32149942\n",
      " 0.86245835 0.53521952 0.61551515 0.75260986 0.49775973 0.45360415\n",
      " 0.55897792 0.76255707 0.81258511 0.85948125 0.55897792 0.52847589\n",
      " 0.48056491 0.85590547 0.48788189 0.53886161 0.42333275 0.68367251\n",
      " 0.62825192 0.68367251 0.38371046 0.65036138 0.61551515 0.63455534\n",
      " 0.54866579 0.57586794 0.45723722 0.39362618]\n",
      "[1 1 1 0 1 0 0 0 1 0 0 0 0 0 0 1 0 0 1 0 0 0 1 0 1 1 1 1 0 0 0 0 0 0 0 0 1\n",
      " 1 0 0 0 0 0 0 0 0 0 0 0 0 0 0 1 1 1 1 0 1 1 1 1 1 1 0 0 1 1 1 1 0 1 0 1 1\n",
      " 1 1 0 0 1 1 1 1 1 1 0 1 0 1 0 1 1 1 0 1 1 1 1 1 0 0]\n"
     ]
    }
   ],
   "source": [
    "yprob, yhat = predict(X12[:,[0,1]], w)\n",
    "print(yprob)\n",
    "print(yhat)"
   ]
  },
  {
   "cell_type": "code",
   "execution_count": 19,
   "metadata": {},
   "outputs": [
    {
     "name": "stdout",
     "output_type": "stream",
     "text": [
      "[[36 14]\n",
      " [15 35]]\n"
     ]
    }
   ],
   "source": [
    "cfmatrix = confusion_matrix(y01, yhat)\n",
    "print(cfmatrix)"
   ]
  },
  {
   "cell_type": "code",
   "execution_count": 20,
   "metadata": {},
   "outputs": [
    {
     "data": {
      "image/png": "[encoded data removed]",
      "text/plain": [
       "<Figure size 432x288 with 2 Axes>"
      ]
     },
     "metadata": {
      "needs_background": "light"
     },
     "output_type": "display_data"
    }
   ],
   "source": [
    "plt.figure()\n",
    "sns.heatmap(cfmatrix, annot=True)\n",
    "plt.show()"
   ]
  },
  {
   "cell_type": "code",
   "execution_count": 21,
   "metadata": {},
   "outputs": [
    {
     "name": "stdout",
     "output_type": "stream",
     "text": [
      "              precision    recall  f1-score   support\n",
      "\n",
      "           0       0.71      0.72      0.71        50\n",
      "           1       0.71      0.70      0.71        50\n",
      "\n",
      "    accuracy                           0.71       100\n",
      "   macro avg       0.71      0.71      0.71       100\n",
      "weighted avg       0.71      0.71      0.71       100\n",
      "\n"
     ]
    }
   ],
   "source": [
    "print(classification_report(y01, yhat))"
   ]
  },
  {
   "cell_type": "markdown",
   "metadata": {},
   "source": [
    "## Regiones de clasificación"
   ]
  },
  {
   "cell_type": "code",
   "execution_count": 22,
   "metadata": {},
   "outputs": [],
   "source": [
    "# Plotting decision regions\n",
    "h = 0.01\n",
    "x_min, x_max = X12[:,0].min() - 1, X12[:,0].max() + 1\n",
    "y_min, y_max = X12[:,1].min() - 1, X12[:,1].max() + 1\n",
    "xx, yy = np.meshgrid(np.arange(x_min, x_max, h),\n",
    "                     np.arange(y_min, y_max, h))"
   ]
  },
  {
   "cell_type": "code",
   "execution_count": 23,
   "metadata": {},
   "outputs": [
    {
     "data": {
      "image/png": "[encoded data removed]",
      "text/plain": [
       "<Figure size 576x576 with 1 Axes>"
      ]
     },
     "metadata": {
      "needs_background": "light"
     },
     "output_type": "display_data"
    }
   ],
   "source": [
    "plt.figure(figsize=(8,8))\n",
    "Zp, Z = predict(np.c_[xx.ravel(), yy.ravel()], w)\n",
    "Z = Z.reshape(xx.shape)\n",
    "plt.contourf(xx, yy, Z, alpha=0.4)\n",
    "plt.scatter(X12[:,0], X12[:,1], c=y01, s=20, edgecolor='k')\n",
    "plt.title('Clasificador Logístico')\n",
    "#plt.h([0,0], w, 'k-')\n",
    "plt.xlim([x_min,x_max])\n",
    "plt.ylim([y_min,y_max])\n",
    "plt.show()"
   ]
  },
  {
   "cell_type": "code",
   "execution_count": null,
   "metadata": {},
   "outputs": [],
   "source": []
  },
  {
   "cell_type": "markdown",
   "metadata": {},
   "source": [
    "## Sklearn"
   ]
  },
  {
   "cell_type": "code",
   "execution_count": 24,
   "metadata": {},
   "outputs": [],
   "source": [
    "from sklearn.linear_model import LogisticRegression"
   ]
  },
  {
   "cell_type": "code",
   "execution_count": 25,
   "metadata": {},
   "outputs": [],
   "source": [
    "model = LogisticRegression()\n",
    "#penalty='l2', *, dual=False, tol=0.0001, C=1.0, fit_intercept=True,\n",
    "#intercept_scaling=1, class_weight=None, random_state=None, solver='lbfgs',\n",
    "#max_iter=100, multi_class='auto', verbose=0, warm_start=False, n_jobs=None,\n",
    "#l1_ratio=None)[source]"
   ]
  },
  {
   "cell_type": "code",
   "execution_count": 26,
   "metadata": {},
   "outputs": [
    {
     "data": {
      "text/plain": [
       "LogisticRegression(C=1.0, class_weight=None, dual=False, fit_intercept=True,\n",
       "                   intercept_scaling=1, l1_ratio=None, max_iter=100,\n",
       "                   multi_class='auto', n_jobs=None, penalty='l2',\n",
       "                   random_state=None, solver='lbfgs', tol=0.0001, verbose=0,\n",
       "                   warm_start=False)"
      ]
     },
     "execution_count": 26,
     "metadata": {},
     "output_type": "execute_result"
    }
   ],
   "source": [
    "model.fit(X01[:,[0,1]], y01)"
   ]
  },
  {
   "cell_type": "code",
   "execution_count": 27,
   "metadata": {},
   "outputs": [
    {
     "data": {
      "text/plain": [
       "array([[ 3.0786959, -3.0220097]])"
      ]
     },
     "execution_count": 27,
     "metadata": {},
     "output_type": "execute_result"
    }
   ],
   "source": [
    "model.coef_"
   ]
  },
  {
   "cell_type": "code",
   "execution_count": 28,
   "metadata": {},
   "outputs": [
    {
     "name": "stdout",
     "output_type": "stream",
     "text": [
      "[0 0 0 0 0 0 0 0 0 0 0 0 0 0 0 0 0 0 0 0 0 0 0 0 0 0 0 0 0 0 0 0 0 0 0 0 0\n",
      " 0 0 0 0 0 0 0 0 0 0 0 0 0 1 1 1 1 1 1 1 1 1 1 1 1 1 1 1 1 1 1 1 1 1 1 1 1\n",
      " 1 1 1 1 1 1 1 1 1 1 1 1 1 1 1 1 1 1 1 1 1 1 1 1 1 1]\n"
     ]
    }
   ],
   "source": [
    "ypred = model.predict(X01[:,[0,1]])\n",
    "print(ypred)"
   ]
  },
  {
   "cell_type": "code",
   "execution_count": 29,
   "metadata": {},
   "outputs": [
    {
     "name": "stdout",
     "output_type": "stream",
     "text": [
      "[[50  0]\n",
      " [ 0 50]]\n"
     ]
    }
   ],
   "source": [
    "cfmatrix = confusion_matrix(y01, ypred)\n",
    "print(cfmatrix)"
   ]
  },
  {
   "cell_type": "code",
   "execution_count": 30,
   "metadata": {},
   "outputs": [
    {
     "data": {
      "image/png": "[encoded data removed]",
      "text/plain": [
       "<Figure size 432x288 with 2 Axes>"
      ]
     },
     "metadata": {
      "needs_background": "light"
     },
     "output_type": "display_data"
    }
   ],
   "source": [
    "plt.figure()\n",
    "sns.heatmap(cfmatrix, annot=True)\n",
    "plt.show()"
   ]
  },
  {
   "cell_type": "code",
   "execution_count": 31,
   "metadata": {},
   "outputs": [
    {
     "name": "stdout",
     "output_type": "stream",
     "text": [
      "              precision    recall  f1-score   support\n",
      "\n",
      "           0       1.00      1.00      1.00        50\n",
      "           1       1.00      1.00      1.00        50\n",
      "\n",
      "    accuracy                           1.00       100\n",
      "   macro avg       1.00      1.00      1.00       100\n",
      "weighted avg       1.00      1.00      1.00       100\n",
      "\n"
     ]
    }
   ],
   "source": [
    "print(classification_report(y01, ypred))"
   ]
  },
  {
   "cell_type": "markdown",
   "metadata": {},
   "source": [
    "## Regiones de clasificación"
   ]
  },
  {
   "cell_type": "code",
   "execution_count": 32,
   "metadata": {},
   "outputs": [],
   "source": [
    "# Plotting decision regions\n",
    "h = 0.01\n",
    "x_min, x_max = X01[:,0].min() - 1, X01[:,0].max() + 1\n",
    "y_min, y_max = X01[:,1].min() - 1, X01[:,1].max() + 1\n",
    "xx, yy = np.meshgrid(np.arange(x_min, x_max, h),\n",
    "                     np.arange(y_min, y_max, h))"
   ]
  },
  {
   "cell_type": "code",
   "execution_count": 33,
   "metadata": {},
   "outputs": [
    {
     "data": {
      "image/png": "[encoded data removed]",
      "text/plain": [
       "<Figure size 576x576 with 1 Axes>"
      ]
     },
     "metadata": {
      "needs_background": "light"
     },
     "output_type": "display_data"
    }
   ],
   "source": [
    "plt.figure(figsize=(8,8))\n",
    "Z = model.predict(np.c_[xx.ravel(), yy.ravel()])\n",
    "Z = Z.reshape(xx.shape)\n",
    "plt.contourf(xx, yy, Z, alpha=0.4)\n",
    "plt.scatter(X01[:,0], X01[:,1], c=y01, s=20, edgecolor='k')\n",
    "plt.title('Clasificador Logistico')\n",
    "#plt.h([0,0], w, 'k-')\n",
    "plt.xlim([x_min,x_max])\n",
    "plt.ylim([y_min,y_max])\n",
    "plt.show()"
   ]
  },
  {
   "cell_type": "code",
   "execution_count": 34,
   "metadata": {},
   "outputs": [],
   "source": [
    "model2 = LogisticRegression()"
   ]
  },
  {
   "cell_type": "code",
   "execution_count": 35,
   "metadata": {},
   "outputs": [
    {
     "data": {
      "text/plain": [
       "LogisticRegression(C=1.0, class_weight=None, dual=False, fit_intercept=True,\n",
       "                   intercept_scaling=1, l1_ratio=None, max_iter=100,\n",
       "                   multi_class='auto', n_jobs=None, penalty='l2',\n",
       "                   random_state=None, solver='lbfgs', tol=0.0001, verbose=0,\n",
       "                   warm_start=False)"
      ]
     },
     "execution_count": 35,
     "metadata": {},
     "output_type": "execute_result"
    }
   ],
   "source": [
    "model2.fit(X12[:,[0,1]], y01)"
   ]
  },
  {
   "cell_type": "code",
   "execution_count": 36,
   "metadata": {},
   "outputs": [
    {
     "data": {
      "text/plain": [
       "array([[1.5890194 , 0.40894657]])"
      ]
     },
     "execution_count": 36,
     "metadata": {},
     "output_type": "execute_result"
    }
   ],
   "source": [
    "model2.coef_"
   ]
  },
  {
   "cell_type": "code",
   "execution_count": 37,
   "metadata": {},
   "outputs": [
    {
     "name": "stdout",
     "output_type": "stream",
     "text": [
      "[1 1 1 0 1 0 1 0 1 0 0 0 0 0 0 1 0 0 0 0 0 0 0 0 1 1 1 1 0 0 0 0 0 0 0 0 1\n",
      " 0 0 0 0 0 0 0 0 0 0 0 0 0 1 0 1 1 1 1 0 1 1 1 1 1 1 0 0 1 1 1 1 0 1 0 1 1\n",
      " 1 1 0 0 1 1 1 1 1 1 0 1 1 1 0 1 1 1 0 1 1 1 0 1 1 0]\n"
     ]
    }
   ],
   "source": [
    "ypred2 = model2.predict(X12[:,[0,1]])\n",
    "print(ypred2)"
   ]
  },
  {
   "cell_type": "code",
   "execution_count": 38,
   "metadata": {},
   "outputs": [
    {
     "name": "stdout",
     "output_type": "stream",
     "text": [
      "[[38 12]\n",
      " [13 37]]\n"
     ]
    }
   ],
   "source": [
    "cfmatrix2 = confusion_matrix(y01, ypred2)\n",
    "print(cfmatrix2)"
   ]
  },
  {
   "cell_type": "code",
   "execution_count": 39,
   "metadata": {},
   "outputs": [
    {
     "data": {
      "image/png": "[encoded data removed]",
      "text/plain": [
       "<Figure size 432x288 with 2 Axes>"
      ]
     },
     "metadata": {
      "needs_background": "light"
     },
     "output_type": "display_data"
    }
   ],
   "source": [
    "plt.figure()\n",
    "sns.heatmap(cfmatrix2, annot=True)\n",
    "plt.show()"
   ]
  },
  {
   "cell_type": "code",
   "execution_count": 40,
   "metadata": {},
   "outputs": [
    {
     "name": "stdout",
     "output_type": "stream",
     "text": [
      "              precision    recall  f1-score   support\n",
      "\n",
      "           0       0.75      0.76      0.75        50\n",
      "           1       0.76      0.74      0.75        50\n",
      "\n",
      "    accuracy                           0.75       100\n",
      "   macro avg       0.75      0.75      0.75       100\n",
      "weighted avg       0.75      0.75      0.75       100\n",
      "\n"
     ]
    }
   ],
   "source": [
    "print(classification_report(y01, ypred2))"
   ]
  },
  {
   "cell_type": "markdown",
   "metadata": {},
   "source": [
    "## Regiones de clasificación"
   ]
  },
  {
   "cell_type": "code",
   "execution_count": 41,
   "metadata": {},
   "outputs": [],
   "source": [
    "# Plotting decision regions\n",
    "h = 0.01\n",
    "x_min, x_max = X12[:,0].min() - 1, X12[:,0].max() + 1\n",
    "y_min, y_max = X12[:,1].min() - 1, X12[:,1].max() + 1\n",
    "xx, yy = np.meshgrid(np.arange(x_min, x_max, h),\n",
    "                     np.arange(y_min, y_max, h))"
   ]
  },
  {
   "cell_type": "code",
   "execution_count": 42,
   "metadata": {},
   "outputs": [
    {
     "data": {
      "image/png": "[encoded data removed]",
      "text/plain": [
       "<Figure size 576x576 with 1 Axes>"
      ]
     },
     "metadata": {
      "needs_background": "light"
     },
     "output_type": "display_data"
    }
   ],
   "source": [
    "plt.figure(figsize=(8,8))\n",
    "Z = model2.predict(np.c_[xx.ravel(), yy.ravel()])\n",
    "Z = Z.reshape(xx.shape)\n",
    "plt.contourf(xx, yy, Z, alpha=0.4)\n",
    "plt.scatter(X12[:,0], X12[:,1], c=y01, s=20, edgecolor='k')\n",
    "plt.title('Clasificador Logistico')\n",
    "#plt.h([0,0], w, 'k-')\n",
    "plt.xlim([x_min,x_max])\n",
    "plt.ylim([y_min,y_max])\n",
    "plt.show()"
   ]
  },
  {
   "cell_type": "code",
   "execution_count": null,
   "metadata": {},
   "outputs": [],
   "source": []
  }
 ],
 "metadata": {
  "kernelspec": {
   "display_name": "Python 3",
   "language": "python",
   "name": "python3"
  },
  "language_info": {
   "codemirror_mode": {
    "name": "ipython",
    "version": 3
   },
   "file_extension": ".py",
   "mimetype": "text/x-python",
   "name": "python",
   "nbconvert_exporter": "python",
   "pygments_lexer": "ipython3",
   "version": "3.6.10"
  }
 },
 "nbformat": 4,
 "nbformat_minor": 4
}
